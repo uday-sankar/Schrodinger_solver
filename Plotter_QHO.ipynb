{
 "cells": [
  {
   "cell_type": "code",
   "execution_count": 8,
   "metadata": {},
   "outputs": [],
   "source": [
    "import Support_Func_QHO as EF\n",
    "import numpy as np\n",
    "import matplotlib.pyplot as plt\n",
    "import time as T\n",
    "from matplotlib import style\n",
    "style.use('seaborn')"
   ]
  },
  {
   "cell_type": "code",
   "execution_count": 2,
   "metadata": {},
   "outputs": [],
   "source": [
    "%matplotlib qt"
   ]
  },
  {
   "cell_type": "code",
   "execution_count": 3,
   "metadata": {},
   "outputs": [],
   "source": [
    "def Poten_H(x):\n",
    "\tV=m*(w*x)**2/2\n",
    "\treturn V\n",
    "h,m,w=1,1,1\n",
    "EF.Constant_feeder(h,m,1,Poten_H)\n",
    "X=np.linspace(-8,8,10**4)\n",
    "T_0=T.time()"
   ]
  },
  {
   "cell_type": "code",
   "execution_count": 4,
   "metadata": {},
   "outputs": [
    {
     "name": "stdout",
     "output_type": "stream",
     "text": [
      "||||\n",
      "||||\n"
     ]
    }
   ],
   "source": [
    "E_eigen=EF.Eigen_Range_finder(X,0,4,2)\n",
    "T_end=T.time()"
   ]
  },
  {
   "cell_type": "code",
   "execution_count": 9,
   "metadata": {},
   "outputs": [],
   "source": [
    "style.use('seaborn')"
   ]
  },
  {
   "cell_type": "code",
   "execution_count": 36,
   "metadata": {},
   "outputs": [
    {
     "name": "stdout",
     "output_type": "stream",
     "text": [
      "\n",
      "Time Taken=20.032670497894287\n",
      "Plottings for [0.5 1.5 2.5 3.5]\n"
     ]
    },
    {
     "data": {
      "text/plain": [
       "Text(0, 0.5, '$\\\\Psi$ / E(in J)')"
      ]
     },
     "execution_count": 36,
     "metadata": {},
     "output_type": "execute_result"
    }
   ],
   "source": [
    "print(f\"\\nTime Taken={T_end-T_0}\")\n",
    "fig=plt.figure(figsize=(10,8))\n",
    "ax=plt.axes(ylim=(0,E_eigen[-1]*1.1),xlim=(-7,7))\n",
    "EF.Plot_Eq(X,E_eigen,ax)\n",
    "ax.plot(X,Poten_H(X),color='black',label=r'$\\frac{Kx^2}{2}$')\n",
    "plt.figtext(.5,.9,'Solutions of Quantum Harmonic Oscilator', fontsize=22, ha='center')\n",
    "plt.xticks(fontsize=14)\n",
    "plt.yticks(fontsize=14)\n",
    "plt.xlabel(\"X(in meter)\",fontsize=14)\n",
    "plt.ylabel(r\"$\\Psi$ / E(in J)\",fontsize=14)"
   ]
  },
  {
   "cell_type": "code",
   "execution_count": 37,
   "metadata": {},
   "outputs": [
    {
     "data": {
      "text/plain": [
       "Text(4, 3.54, '$\\\\Psi_3$')"
      ]
     },
     "execution_count": 37,
     "metadata": {},
     "output_type": "execute_result"
    }
   ],
   "source": [
    "ax.text(.8,.2,r'$\\frac{X^2}{2}}$',fontsize=15,color='black')\n",
    "ax.text(4,.54,r'$\\Psi_0$',fontsize=15,color='c')\n",
    "ax.text(4,1.54,r'$\\Psi_1$',fontsize=15,color='r')\n",
    "ax.text(4,2.54,r'$\\Psi_2$',fontsize=15,color='g')\n",
    "ax.text(4,3.54,r'$\\Psi_3$',fontsize=15,color='b')\n"
   ]
  },
  {
   "cell_type": "code",
   "execution_count": 38,
   "metadata": {},
   "outputs": [],
   "source": [
    "plt.savefig(\"Neat_plot_QHO(Psi-E).png\",dpi=650)"
   ]
  },
  {
   "cell_type": "code",
   "execution_count": 13,
   "metadata": {},
   "outputs": [],
   "source": [
    "BP=1\n",
    "def Explotion_fac(X,E_range):\n",
    "    Sol=EF.run_mult(X,E_range)\n",
    "    E_range=np.copy(E_range)\n",
    "    V_x=Poten_H(X)#V of x{V(x)}\n",
    "    min_V=min(V_x)\n",
    "    active_range=np.where(V_x<=max(E_range))\n",
    "    ind_lw=active_range[0][0]\n",
    "    ind_up=active_range[0][-1]\n",
    "    Explo_Farray=[]\n",
    "    for s in Sol:\n",
    "        y=s[1]\n",
    "        Expec_max=max(y[ind_lw:ind_up])#maximum in the expected region\n",
    "        Expec_min=abs(min(y[ind_lw:ind_up]))\n",
    "        if Expec_max<Expec_min:\n",
    "            Expec_max=Expec_min\n",
    "        Explo_Farray.append(abs(y[-1]/Expec_max))\n",
    "    return Explo_Farray"
   ]
  },
  {
   "cell_type": "code",
   "execution_count": 15,
   "metadata": {},
   "outputs": [],
   "source": [
    "E_array=np.linspace(0,4,1000)\n",
    "Ex_A=Explotion_fac(X,E_array)"
   ]
  },
  {
   "cell_type": "code",
   "execution_count": null,
   "metadata": {},
   "outputs": [],
   "source": [
    "plt.plot(E_array,Ex_A)"
   ]
  },
  {
   "cell_type": "code",
   "execution_count": 39,
   "metadata": {},
   "outputs": [
    {
     "data": {
      "text/plain": [
       "<matplotlib.legend.Legend at 0x7fc740ab7580>"
      ]
     },
     "execution_count": 39,
     "metadata": {},
     "output_type": "execute_result"
    }
   ],
   "source": [
    "fig=plt.figure(figsize=(10,8))\n",
    "ax=plt.axes()\n",
    "plt.figtext(.5,.9,'Explosion-Factor vs Energy for QHO', fontsize=22, ha='center')\n",
    "plt.xticks(fontsize=14)\n",
    "plt.yticks(fontsize=14)\n",
    "plt.xlabel(\"E(in J)\",fontsize=14)\n",
    "plt.ylabel(\"Explosion-factor\",fontsize=14)\n",
    "plt.yscale('log')\n",
    "ax.plot(E_array,Ex_A,label='Explosion-factor')\n",
    "plt.legend()"
   ]
  },
  {
   "cell_type": "code",
   "execution_count": 40,
   "metadata": {},
   "outputs": [
    {
     "data": {
      "text/plain": [
       "Text(3.38, 31622776.60168379, '$E_3$')"
      ]
     },
     "execution_count": 40,
     "metadata": {},
     "output_type": "execute_result"
    }
   ],
   "source": [
    "ax.text(.38,10**9.8,r'$E_0$(ground-state)',fontsize=12,rotation='vertical',color='b')\n",
    "ax.text(1.38,10**9.5,r'$E_1$',fontsize=12,rotation='vertical',color='b')\n",
    "ax.text(2.38,10**8.7,r'$E_2$',fontsize=12,rotation='vertical',color='b')\n",
    "ax.text(3.38,10**7.5,r'$E_3$',fontsize=12,rotation='vertical',color='b')"
   ]
  },
  {
   "cell_type": "code",
   "execution_count": 42,
   "metadata": {},
   "outputs": [],
   "source": [
    "plt.savefig(\"Explosion-Factor vs E_QHO\",dpi=650)\n",
    "        "
   ]
  },
  {
   "cell_type": "code",
   "execution_count": 22,
   "metadata": {},
   "outputs": [],
   "source": []
  },
  {
   "cell_type": "code",
   "execution_count": 83,
   "metadata": {},
   "outputs": [],
   "source": []
  },
  {
   "cell_type": "code",
   "execution_count": 56,
   "metadata": {},
   "outputs": [
    {
     "data": {
      "text/plain": [
       "<matplotlib.legend.Legend at 0x7fc73e199520>"
      ]
     },
     "execution_count": 56,
     "metadata": {},
     "output_type": "execute_result"
    }
   ],
   "source": [
    "fig=plt.figure(figsize=(10,8))\n",
    "ax=plt.axes(ylim=(-.1,10))\n",
    "plt.figtext(.5,.9,'Quantum Harmonic Potential', fontsize=22, ha='center')\n",
    "plt.xticks(fontsize=14)\n",
    "plt.yticks(fontsize=14)\n",
    "plt.xlabel(\"X(in m)\",fontsize=14)\n",
    "plt.ylabel(\"Potential,V(in J)\",fontsize=14)\n",
    "plt.yscale('linear')\n",
    "ax.plot(X,Poten_H(X),color='lime',label=r'$V_{(x)}=\\frac{x^2}{2}$')\n",
    "plt.legend(prop={'size':18})"
   ]
  },
  {
   "cell_type": "code",
   "execution_count": 57,
   "metadata": {},
   "outputs": [],
   "source": [
    "plt.savefig(\"Quantum_Harmonic_potential.png\",dpi=650)"
   ]
  },
  {
   "cell_type": "code",
   "execution_count": 33,
   "metadata": {},
   "outputs": [
    {
     "name": "stdout",
     "output_type": "stream",
     "text": [
      "['Solarize_Light2', '_classic_test_patch', 'bmh', 'classic', 'dark_background', 'fast', 'fivethirtyeight', 'ggplot', 'grayscale', 'seaborn', 'seaborn-bright', 'seaborn-colorblind', 'seaborn-dark', 'seaborn-dark-palette', 'seaborn-darkgrid', 'seaborn-deep', 'seaborn-muted', 'seaborn-notebook', 'seaborn-paper', 'seaborn-pastel', 'seaborn-poster', 'seaborn-talk', 'seaborn-ticks', 'seaborn-white', 'seaborn-whitegrid', 'tableau-colorblind10']\n"
     ]
    }
   ],
   "source": [
    "print(plt.style.available)"
   ]
  },
  {
   "cell_type": "code",
   "execution_count": null,
   "metadata": {},
   "outputs": [],
   "source": []
  }
 ],
 "metadata": {
  "kernelspec": {
   "display_name": "Python 3",
   "language": "python",
   "name": "python3"
  },
  "language_info": {
   "codemirror_mode": {
    "name": "ipython",
    "version": 3
   },
   "file_extension": ".py",
   "mimetype": "text/x-python",
   "name": "python",
   "nbconvert_exporter": "python",
   "pygments_lexer": "ipython3",
   "version": "3.8.5"
  }
 },
 "nbformat": 4,
 "nbformat_minor": 4
}
